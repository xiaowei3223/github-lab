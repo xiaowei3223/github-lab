{
 "cells": [
  {
   "cell_type": "markdown",
   "metadata": {},
   "source": [
    "# git第一次上传项目"
   ]
  },
  {
   "cell_type": "markdown",
   "metadata": {},
   "source": [
    "现在github主页上创建一个新的仓库，然后在本地的工作目录里输入这些代码，按着流程走，就可以上传了。\n",
    "\n",
    "![git上传.png](./image/git上传.png)"
   ]
  },
  {
   "cell_type": "markdown",
   "metadata": {},
   "source": [
    "# git 第二次上传东西（合并到github仓库中）"
   ]
  },
  {
   "cell_type": "markdown",
   "metadata": {},
   "source": [
    "因为第一次上传过，所以就比较容易解决了。在第一次上传之后，将更新的文件仍然放在这个工作目录里面。\n",
    "\n",
    "点击右键，选择git bush\n",
    "\n",
    "然后输入以下代码："
   ]
  },
  {
   "cell_type": "raw",
   "metadata": {},
   "source": [
    "git add .\n",
    "git commit -m \"你想要备注的内容，尽量清晰些，有助于你以后查询上传的情况\"\n",
    "git push origin master"
   ]
  },
  {
   "cell_type": "markdown",
   "metadata": {},
   "source": [
    "然后就是输入账户和密码了"
   ]
  },
  {
   "cell_type": "markdown",
   "metadata": {},
   "source": [
    "# git下载项目（克隆整个项目到本地工作目录里）"
   ]
  },
  {
   "cell_type": "markdown",
   "metadata": {},
   "source": [
    "新建或者选择好工作目录后，点击右键选择git bush，然后输入以下代码。"
   ]
  },
  {
   "cell_type": "raw",
   "metadata": {},
   "source": [
    "git init\n",
    "git clone \"网址，就是github下载项目的网址，不知道在哪，可以参看下图\""
   ]
  },
  {
   "cell_type": "markdown",
   "metadata": {},
   "source": [
    "![git网址.png](./image/git网址.png)"
   ]
  },
  {
   "cell_type": "markdown",
   "metadata": {},
   "source": [
    "# git本地合并github项目"
   ]
  },
  {
   "cell_type": "markdown",
   "metadata": {},
   "source": [
    "因为之前已经有了git本地仓库，所以合并github上的项目，就只需要在git bush上输入下面的代码就可以了。"
   ]
  },
  {
   "cell_type": "raw",
   "metadata": {},
   "source": [
    "git fetch\n",
    "git merge"
   ]
  }
 ],
 "metadata": {
  "kernelspec": {
   "display_name": "Python 3",
   "language": "python",
   "name": "python3"
  },
  "language_info": {
   "codemirror_mode": {
    "name": "ipython",
    "version": 3
   },
   "file_extension": ".py",
   "mimetype": "text/x-python",
   "name": "python",
   "nbconvert_exporter": "python",
   "pygments_lexer": "ipython3",
   "version": "3.6.5"
  }
 },
 "nbformat": 4,
 "nbformat_minor": 2
}
